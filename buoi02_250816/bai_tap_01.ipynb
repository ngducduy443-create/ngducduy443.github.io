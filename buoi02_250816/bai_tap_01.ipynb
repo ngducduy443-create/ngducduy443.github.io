{
 "cells": [
  {
   "cell_type": "markdown",
   "id": "729e9af4",
   "metadata": {},
   "source": [
    "#In [4]"
   ]
  },
  {
   "cell_type": "code",
   "execution_count": 1,
   "id": "d683664d",
   "metadata": {},
   "outputs": [
    {
     "name": "stdout",
     "output_type": "stream",
     "text": [
      "194.87\n"
     ]
    }
   ],
   "source": [
    "pv = 100\n",
    "r = 0.1\n",
    "n = 7\n",
    "fv = pv * ((1 + r)**n)\n",
    "print(round(fv, 2))"
   ]
  },
  {
   "cell_type": "markdown",
   "id": "edf5f890",
   "metadata": {},
   "source": [
    "#In [6]"
   ]
  },
  {
   "cell_type": "code",
   "execution_count": 2,
   "id": "d62f4dab",
   "metadata": {},
   "outputs": [
    {
     "name": "stdout",
     "output_type": "stream",
     "text": [
      "194.87\n"
     ]
    }
   ],
   "source": [
    "amount = 100\n",
    "interest = 10\n",
    "years = 7\n",
    "\n",
    "future_value = amount * ((1 + 0.01 * interest)**years)\n",
    "print(round(future_value, 2))"
   ]
  },
  {
   "cell_type": "markdown",
   "id": "8067b84b",
   "metadata": {},
   "source": [
    " # comment"
   ]
  },
  {
   "cell_type": "code",
   "execution_count": 83,
   "id": "db64b566",
   "metadata": {},
   "outputs": [
    {
     "name": "stdout",
     "output_type": "stream",
     "text": [
      "Pass\n"
     ]
    }
   ],
   "source": [
    " score = 80\n",
    " if score >=60 :\n",
    "    print(\"Pass\")\n"
   ]
  },
  {
   "cell_type": "code",
   "execution_count": 84,
   "id": "22c05efd",
   "metadata": {},
   "outputs": [
    {
     "name": "stdout",
     "output_type": "stream",
     "text": [
      "2 2.5 Hello\n"
     ]
    }
   ],
   "source": [
    " # Python Variables\n",
    "x = 2\n",
    "price = 2.5\n",
    "word = 'Hello'\n",
    "\n",
    "word = 'Hello'\n",
    "word = \"Hello\"\n",
    "word = '''Hello'''\n",
    "print(x, price, word)"
   ]
  },
  {
   "cell_type": "code",
   "execution_count": 85,
   "id": "7c2e5019",
   "metadata": {},
   "outputs": [
    {
     "name": "stdout",
     "output_type": "stream",
     "text": [
      "Python Version: 3.13.6\n"
     ]
    }
   ],
   "source": [
    " # comment\n",
    " from platform import python_version\n",
    " print(\"Python Version:\", python_version())"
   ]
  },
  {
   "cell_type": "code",
   "execution_count": 86,
   "id": "9b3facf8",
   "metadata": {},
   "outputs": [
    {
     "name": "stdout",
     "output_type": "stream",
     "text": [
      "Help on function python_version in module platform:\n",
      "\n",
      "python_version()\n",
      "    Returns the Python version as string 'major.minor.patchlevel'\n",
      "\n",
      "    Note that unlike the Python sys.version, the returned value\n",
      "    will always include the patchlevel (it defaults to 0).\n",
      "\n"
     ]
    }
   ],
   "source": [
    "help(python_version)"
   ]
  },
  {
   "cell_type": "markdown",
   "id": "08f49a34",
   "metadata": {},
   "source": [
    "#Python Data Type"
   ]
  },
  {
   "cell_type": "code",
   "execution_count": 87,
   "id": "7bf77b8f",
   "metadata": {},
   "outputs": [
    {
     "name": "stdout",
     "output_type": "stream",
     "text": [
      "Hello World <class 'str'>\n",
      "2 <class 'int'>\n",
      "2.5 <class 'float'>\n",
      "7j <class 'complex'>\n"
     ]
    }
   ],
   "source": [
    "#Python Data Type\n",
    "x = \"Hello World\"   #str \n",
    "print(x, type(x))\n",
    "\n",
    "x = 2               #int \n",
    "print(x, type(x))\n",
    "\n",
    "x = 2.5             #float\n",
    "print(x, type(x))\n",
    "\n",
    "x = 7j              #complex \n",
    "print(x, type(x))\n"
   ]
  },
  {
   "cell_type": "code",
   "execution_count": 88,
   "id": "f7d1f46c",
   "metadata": {},
   "outputs": [
    {
     "name": "stdout",
     "output_type": "stream",
     "text": [
      "['apple', 'banana', 'cherry'] <class 'list'>\n",
      "('apple', 'banana', 'cherry') <class 'tuple'>\n",
      "range(0, 6) <class 'range'>\n",
      "{'name': 'Tom', 'age': 20} <class 'dict'>\n",
      "{'apple', 'cherry', 'banana'} <class 'set'>\n"
     ]
    }
   ],
   "source": [
    "#Python Data Types\n",
    "x = [\"apple\", \"banana\", \"cherry\"]   #list \n",
    "print(x, type(x))\n",
    "\n",
    "x = (\"apple\", \"banana\", \"cherry\")   #tuple \n",
    "print(x, type(x))\n",
    "\n",
    "x = range(6)                        #range \n",
    "print(x, type(x))\n",
    "\n",
    "x = {\"name\" : \"Tom\", \"age\" : 20}    #dict\n",
    "print(x, type(x))\n",
    "\n",
    "x = {\"apple\", \"banana\", \"cherry\"}   #set \n",
    "print(x, type(x))\n",
    "\n"
   ]
  },
  {
   "cell_type": "code",
   "execution_count": 89,
   "id": "8a0893c4",
   "metadata": {},
   "outputs": [
    {
     "name": "stdout",
     "output_type": "stream",
     "text": [
      "True <class 'bool'>\n",
      "b'Hello' <class 'bytes'>\n",
      "bytearray(b'\\x00\\x00\\x00\\x00\\x00') <class 'bytearray'>\n",
      "<memory at 0x00000197414F31C0> <class 'memoryview'>\n",
      "None <class 'NoneType'>\n"
     ]
    }
   ],
   "source": [
    "x = True                    #bool \n",
    "print(x, type(x))\n",
    "\n",
    "x = b\"Hello\"                #bytes \n",
    "print(x, type(x))\n",
    "\n",
    "x = bytearray(5)            #bytearray\n",
    "print(x, type(x))\n",
    "\n",
    "x = memoryview(bytes(5))    #memoryview\n",
    "print(x, type(x))\n",
    "\n",
    "x = None                    #NoneType\n",
    "print(x, type(x))\n"
   ]
  },
  {
   "cell_type": "markdown",
   "id": "175e95cc",
   "metadata": {},
   "source": [
    "#Python Basic Operators\n"
   ]
  },
  {
   "cell_type": "code",
   "execution_count": 90,
   "id": "5c9451ad",
   "metadata": {},
   "outputs": [
    {
     "name": "stdout",
     "output_type": "stream",
     "text": [
      "7 + 2 = 9\n",
      "7 -2 = 5\n",
      "7 * 2 = 14\n",
      "7 / 2 = 3.5\n",
      "7 // 2 = 3\n",
      "7 % 2 = 1\n",
      "7 ** 2 = 49\n"
     ]
    }
   ],
   "source": [
    " print('7 + 2 =', 7+ 2)\n",
    " print('7 -2 =', 7-2)\n",
    " print('7 * 2 =', 7* 2)\n",
    " print('7 / 2 =', 7/ 2)\n",
    " print('7 // 2 =', 7// 2)\n",
    " print('7 % 2 =', 7% 2)\n",
    " print('7 ** 2 =', 7** 2)"
   ]
  },
  {
   "cell_type": "markdown",
   "id": "64041c82",
   "metadata": {},
   "source": [
    "#Python Booleans:  True or False\n"
   ]
  },
  {
   "cell_type": "code",
   "execution_count": 91,
   "id": "4baec901",
   "metadata": {},
   "outputs": [
    {
     "name": "stdout",
     "output_type": "stream",
     "text": [
      "True\n",
      "False\n",
      "False\n"
     ]
    }
   ],
   "source": [
    " # Python Booleans: True or False\n",
    " print(3 > 2)\n",
    " print(3 == 2)\n",
    " print(3 < 2)\n"
   ]
  },
  {
   "cell_type": "markdown",
   "id": "39adbb79",
   "metadata": {},
   "source": [
    "#Python BMI Calculator"
   ]
  },
  {
   "cell_type": "code",
   "execution_count": 92,
   "id": "bcbbe739",
   "metadata": {},
   "outputs": [
    {
     "name": "stdout",
     "output_type": "stream",
     "text": [
      "Your BMI is: 20.8\n"
     ]
    }
   ],
   "source": [
    "# BMI Calculator in Python\n",
    "height_cm= 170\n",
    "weight_kg= 60\n",
    "height_m= height_cm/100\n",
    "BMI = (weight_kg/(height_m**2))\n",
    "print(\"Your BMI is: \" + str(round(BMI,1)))"
   ]
  },
  {
   "cell_type": "code",
   "execution_count": 93,
   "id": "31d54e7d",
   "metadata": {},
   "outputs": [
    {
     "name": "stdout",
     "output_type": "stream",
     "text": [
      "9\n"
     ]
    }
   ],
   "source": [
    "a=3\n",
    "b=2\n",
    "c=a**b\n",
    "print(c)\n",
    "# \"**\" là lũy thừa"
   ]
  },
  {
   "cell_type": "markdown",
   "id": "76ab80ee",
   "metadata": {},
   "source": [
    "#How much is your $100 worth after 7 years?\n"
   ]
  },
  {
   "cell_type": "code",
   "execution_count": 94,
   "id": "4e6f69b5",
   "metadata": {},
   "outputs": [
    {
     "name": "stdout",
     "output_type": "stream",
     "text": [
      "fv =  194.87\n"
     ]
    }
   ],
   "source": [
    "fv = 100 * 1.1 ** 7\n",
    "print('fv = ', round(fv, 2))\n"
   ]
  },
  {
   "cell_type": "markdown",
   "id": "9fdb2a44",
   "metadata": {},
   "source": [
    "#Future Value"
   ]
  },
  {
   "cell_type": "code",
   "execution_count": 95,
   "id": "f9550ae1",
   "metadata": {},
   "outputs": [
    {
     "name": "stdout",
     "output_type": "stream",
     "text": [
      "194.87\n"
     ]
    }
   ],
   "source": [
    "pv= 100\n",
    "r = 0.1\n",
    "n = 7\n",
    "fv= pv* ((1+ (r)) ** n)\n",
    "print(round(fv, 2))"
   ]
  },
  {
   "cell_type": "code",
   "execution_count": 96,
   "id": "89a3c47b",
   "metadata": {},
   "outputs": [
    {
     "name": "stdout",
     "output_type": "stream",
     "text": [
      "194.87\n"
     ]
    }
   ],
   "source": [
    "amount = 100\n",
    "interest = 10#10% = 0.01 * 10 \n",
    "years = 7\n",
    "future_value = amount * ((1 + (0.01 * interest)) ** years)\n",
    "print(round(future_value, 2))"
   ]
  },
  {
   "cell_type": "markdown",
   "id": "1bb349fc",
   "metadata": {},
   "source": [
    "** Python Data Structures**\n",
    "\n"
   ]
  },
  {
   "cell_type": "markdown",
   "id": "caac6d38",
   "metadata": {},
   "source": [
    "#Lists []"
   ]
  },
  {
   "cell_type": "code",
   "execution_count": 97,
   "id": "126f33b5",
   "metadata": {},
   "outputs": [
    {
     "name": "stdout",
     "output_type": "stream",
     "text": [
      "4\n",
      "60\n",
      "70\n",
      "90\n",
      "Help on built-in function len in module builtins:\n",
      "\n",
      "len(obj, /)\n",
      "    Return the number of items in a container.\n",
      "\n"
     ]
    }
   ],
   "source": [
    "x = [60, 70, 80, 90]\n",
    "print(len(x))\n",
    "print(x[0])\n",
    "print(x[1])\n",
    "print(x[-1])\n",
    "\n",
    "#What is \"len\"\n",
    "help(len)\n",
    "\n",
    "#len(): how many items \n",
    "#type(): data type\n",
    "#list() constructor: creating a new list "
   ]
  },
  {
   "cell_type": "markdown",
   "id": "8ae41496",
   "metadata": {},
   "source": [
    "#Python List Methods"
   ]
  },
  {
   "cell_type": "code",
   "execution_count": 98,
   "id": "98a65d51",
   "metadata": {},
   "outputs": [],
   "source": [
    "#Method Description\n",
    "##append()Adds an element at the end of the list\n",
    "##clear() Removes all the elements from the list\n",
    "##copy() Returns a copy of the list\n",
    "##count() Returns the number of elements with the specified value\n",
    "##extend() Add the elements of a list (or any iterable), to the end of the current list\n",
    "##index() Returns the index of the first element with the specified value\n",
    "##insert() Adds an element at the specified position\n",
    "##pop() Removes the element at the specified position\n",
    "##remove()Removes the item with the specified value\n",
    "##reverse() Reverses the order of the list\n",
    "##sort() Sorts the list"
   ]
  },
  {
   "cell_type": "markdown",
   "id": "242f62b2",
   "metadata": {},
   "source": [
    "#Tuples ()"
   ]
  },
  {
   "cell_type": "code",
   "execution_count": 99,
   "id": "0dc46d0e",
   "metadata": {},
   "outputs": [
    {
     "name": "stdout",
     "output_type": "stream",
     "text": [
      "10\n",
      "20\n",
      "30\n",
      "50\n"
     ]
    }
   ],
   "source": [
    "x = (10, 20, 30, 40, 50)\n",
    "print(x[0])\n",
    "print(x[1])\n",
    "print(x[2])\n",
    "print(x[-1])"
   ]
  },
  {
   "cell_type": "markdown",
   "id": "6efcce46",
   "metadata": {},
   "source": [
    "#Sets {}"
   ]
  },
  {
   "cell_type": "code",
   "execution_count": 100,
   "id": "437d781e",
   "metadata": {},
   "outputs": [
    {
     "name": "stdout",
     "output_type": "stream",
     "text": [
      "True\n",
      "False\n",
      "True\n",
      "3\n",
      "3\n",
      "2\n"
     ]
    }
   ],
   "source": [
    "animals = {'cat', 'dog'}\n",
    "print('cat'in animals)\n",
    "print('fish' in animals)\n",
    "animals.add('fish')\n",
    "print('fish'in animals) \n",
    "print(len(animals))\n",
    "animals.add('cat')\n",
    "print(len(animals))\n",
    "animals.remove('cat')\n",
    "print(len(animals))"
   ]
  },
  {
   "cell_type": "markdown",
   "id": "d759d8e0",
   "metadata": {},
   "source": [
    "#Dictionary {key : value}"
   ]
  },
  {
   "cell_type": "code",
   "execution_count": 101,
   "id": "c13d4e24",
   "metadata": {},
   "outputs": [
    {
     "name": "stdout",
     "output_type": "stream",
     "text": [
      "English\n",
      "French\n"
     ]
    }
   ],
   "source": [
    "k = { 'EN':'English', 'FR':'French'}\n",
    "print(k['EN'])\n",
    "print(k['FR'])"
   ]
  },
  {
   "cell_type": "code",
   "execution_count": 102,
   "id": "38b07cf1",
   "metadata": {},
   "outputs": [],
   "source": [
    "fruits = [\"apple\", \"banana\", \"cherry\"] #lists []\n",
    "colors = (\"red\", \"green\", \"blue\") #tuples ()\n",
    "animals = {'cat', 'dog'} #sets {}\n",
    "person = {\"name\" : \"Tom\", \"age\" : 20} #dictionaries {}\n"
   ]
  },
  {
   "cell_type": "markdown",
   "id": "2505b625",
   "metadata": {},
   "source": [
    "#Python for Finance Applications\n"
   ]
  },
  {
   "cell_type": "code",
   "execution_count": 103,
   "id": "48f52789",
   "metadata": {},
   "outputs": [
    {
     "name": "stdout",
     "output_type": "stream",
     "text": [
      "Total expenses: 293.5\n"
     ]
    }
   ],
   "source": [
    "# Python Lists \n",
    "expenses = [72.50, 80.75, 50.00, 90.25]\n",
    "total_expenses = sum(expenses)\n",
    "print(\"Total expenses:\", total_expenses)"
   ]
  },
  {
   "cell_type": "code",
   "execution_count": 105,
   "id": "b0a65c65",
   "metadata": {},
   "outputs": [
    {
     "name": "stdout",
     "output_type": "stream",
     "text": [
      "Account name: Cash Account number: 1001\n",
      "Account name: Accounts Receivable Account number: 1002\n",
      "Account name: Inventory Account number: 1003\n"
     ]
    }
   ],
   "source": [
    "# Python Tuples\n",
    "accounts = ((\"Cash\", 1001), (\"Accounts Receivable\", 1002), \n",
    "(\"Inventory\", 1003))\n",
    "for account in accounts:\n",
    "    print(\"Account name:\", account[0], \"Account number:\", account[1])"
   ]
  },
  {
   "cell_type": "code",
   "execution_count": 106,
   "id": "333b6a3d",
   "metadata": {},
   "outputs": [
    {
     "name": "stdout",
     "output_type": "stream",
     "text": [
      "Account number 1004 is not in use.\n"
     ]
    }
   ],
   "source": [
    "# Python Sets\n",
    "account_numbers = {1001, 1002, 1003}\n",
    "new_account_number = 1004\n",
    "if new_account_number not in account_numbers:\n",
    "    print(\"Account number\", new_account_number, \"is not in use.\")"
   ]
  },
  {
   "cell_type": "code",
   "execution_count": 108,
   "id": "292b40cf",
   "metadata": {},
   "outputs": [
    {
     "name": "stdout",
     "output_type": "stream",
     "text": [
      "Account number: 1001\n",
      "Account name: Cash\n",
      "Account balance: 500.0\n",
      "Account type: Asset\n",
      "Account number: 1002\n",
      "Account name: Accounts Receivable\n",
      "Account balance: 1000.0\n",
      "Account type: Asset\n",
      "Account number: 2001\n",
      "Account name: Accounts Payable\n",
      "Account balance: 750.0\n",
      "Account type: Liability\n"
     ]
    }
   ],
   "source": [
    "# Python Dictionaries\n",
    "accounts = {\"1001\": {\"name\": \"Cash\", \"balance\": 500.00, \"type\": \"Asset\"}, \"1002\": {\"name\": \"Accounts Receivable\", \"balance\": 1000.00, \"type\": \"Asset\"}, \"2001\": {\"name\": \"Accounts Payable\", \"balance\": 750.00, \"type\": \"Liability\"}}\n",
    "for account_number, account_info in accounts.items():\n",
    "    print(\"Account number:\", account_number)\n",
    "    print(\"Account name:\", account_info[\"name\"])\n",
    "    print(\"Account balance:\", account_info[\"balance\"])\n",
    "    print(\"Account type:\", account_info[\"type\"])"
   ]
  },
  {
   "cell_type": "markdown",
   "id": "962a87bf",
   "metadata": {},
   "source": [
    "**Python Control Logic and Loops**"
   ]
  },
  {
   "cell_type": "code",
   "execution_count": 112,
   "id": "27c1cb5d",
   "metadata": {},
   "outputs": [
    {
     "name": "stdout",
     "output_type": "stream",
     "text": [
      "Pass\n"
     ]
    }
   ],
   "source": [
    "# Python if \n",
    "score = 80\n",
    "if score >=60:\n",
    "    print(\"Pass\")"
   ]
  },
  {
   "cell_type": "code",
   "execution_count": 113,
   "id": "5d9ce6aa",
   "metadata": {},
   "outputs": [
    {
     "name": "stdout",
     "output_type": "stream",
     "text": [
      "Pass\n"
     ]
    }
   ],
   "source": [
    "# Python if else\n",
    "score = 80\n",
    "if score >=60:\n",
    "    print(\"Pass\")\n",
    "else:\n",
    "    print(\"Fail\")\n"
   ]
  },
  {
   "cell_type": "code",
   "execution_count": 115,
   "id": "528fd2c2",
   "metadata": {},
   "outputs": [
    {
     "name": "stdout",
     "output_type": "stream",
     "text": [
      "A\n"
     ]
    }
   ],
   "source": [
    "#Python if elifelse\n",
    "score = 95\n",
    "if  score >= 90:\n",
    "    print(\"A\")\n",
    "elif score >=60:\n",
    "    print(\"Pass\")\n",
    "else:\n",
    "    print(\"Fail\")\n"
   ]
  },
  {
   "cell_type": "code",
   "execution_count": 116,
   "id": "9c524952",
   "metadata": {},
   "outputs": [
    {
     "name": "stdout",
     "output_type": "stream",
     "text": [
      "A\n"
     ]
    }
   ],
   "source": [
    "#Python if elifelse\n",
    "score = 90\n",
    "grade = \"\"\n",
    "if score >=90:\n",
    "    grade = \"A\"\n",
    "elif score >= 80:\n",
    "    grade = \"B\"\n",
    "elif score >= 70:\n",
    "    grade = \"C\"\n",
    "elif score >= 60:\n",
    "    grade = \"D\"\n",
    "else:\n",
    "    grade = \"E\"\n",
    "print(grade)\n"
   ]
  },
  {
   "cell_type": "code",
   "execution_count": 118,
   "id": "85bbf283",
   "metadata": {},
   "outputs": [
    {
     "name": "stdout",
     "output_type": "stream",
     "text": [
      "1\n",
      "2\n",
      "3\n",
      "4\n",
      "5\n"
     ]
    }
   ],
   "source": [
    "#Python for Loops\n",
    "for i in range(1,6):\n",
    "    print(i)"
   ]
  },
  {
   "cell_type": "code",
   "execution_count": 122,
   "id": "0d6a1dc2",
   "metadata": {},
   "outputs": [
    {
     "name": "stdout",
     "output_type": "stream",
     "text": [
      "1  *  1  =  1\n",
      "1  *  2  =  2\n",
      "1  *  3  =  3\n",
      "1  *  4  =  4\n",
      "1  *  5  =  5\n",
      "1  *  6  =  6\n",
      "1  *  7  =  7\n",
      "1  *  8  =  8\n",
      "1  *  9  =  9\n",
      "2  *  1  =  2\n",
      "2  *  2  =  4\n",
      "2  *  3  =  6\n",
      "2  *  4  =  8\n",
      "2  *  5  =  10\n",
      "2  *  6  =  12\n",
      "2  *  7  =  14\n",
      "2  *  8  =  16\n",
      "2  *  9  =  18\n",
      "3  *  1  =  3\n",
      "3  *  2  =  6\n",
      "3  *  3  =  9\n",
      "3  *  4  =  12\n",
      "3  *  5  =  15\n",
      "3  *  6  =  18\n",
      "3  *  7  =  21\n",
      "3  *  8  =  24\n",
      "3  *  9  =  27\n",
      "4  *  1  =  4\n",
      "4  *  2  =  8\n",
      "4  *  3  =  12\n",
      "4  *  4  =  16\n",
      "4  *  5  =  20\n",
      "4  *  6  =  24\n",
      "4  *  7  =  28\n",
      "4  *  8  =  32\n",
      "4  *  9  =  36\n",
      "5  *  1  =  5\n",
      "5  *  2  =  10\n",
      "5  *  3  =  15\n",
      "5  *  4  =  20\n",
      "5  *  5  =  25\n",
      "5  *  6  =  30\n",
      "5  *  7  =  35\n",
      "5  *  8  =  40\n",
      "5  *  9  =  45\n",
      "6  *  1  =  6\n",
      "6  *  2  =  12\n",
      "6  *  3  =  18\n",
      "6  *  4  =  24\n",
      "6  *  5  =  30\n",
      "6  *  6  =  36\n",
      "6  *  7  =  42\n",
      "6  *  8  =  48\n",
      "6  *  9  =  54\n",
      "7  *  1  =  7\n",
      "7  *  2  =  14\n",
      "7  *  3  =  21\n",
      "7  *  4  =  28\n",
      "7  *  5  =  35\n",
      "7  *  6  =  42\n",
      "7  *  7  =  49\n",
      "7  *  8  =  56\n",
      "7  *  9  =  63\n",
      "8  *  1  =  8\n",
      "8  *  2  =  16\n",
      "8  *  3  =  24\n",
      "8  *  4  =  32\n",
      "8  *  5  =  40\n",
      "8  *  6  =  48\n",
      "8  *  7  =  56\n",
      "8  *  8  =  64\n",
      "8  *  9  =  72\n",
      "9  *  1  =  9\n",
      "9  *  2  =  18\n",
      "9  *  3  =  27\n",
      "9  *  4  =  36\n",
      "9  *  5  =  45\n",
      "9  *  6  =  54\n",
      "9  *  7  =  63\n",
      "9  *  8  =  72\n",
      "9  *  9  =  81\n"
     ]
    }
   ],
   "source": [
    "# for loops\n",
    "for i in range(1,10):\n",
    "    for j in range(1,10):\n",
    "        print(i, ' * ' , j , ' = ', i*j)\n"
   ]
  },
  {
   "cell_type": "code",
   "execution_count": 124,
   "id": "139c07d5",
   "metadata": {},
   "outputs": [
    {
     "name": "stdout",
     "output_type": "stream",
     "text": [
      "10\n",
      "11\n",
      "12\n",
      "13\n",
      "14\n",
      "15\n",
      "16\n",
      "17\n",
      "18\n",
      "19\n"
     ]
    }
   ],
   "source": [
    "#Python while loops\n",
    "age = 10\n",
    "while age < 20:\n",
    "    print(age)\n",
    "    age = age + 1\n",
    "\n"
   ]
  },
  {
   "cell_type": "markdown",
   "id": "55780324",
   "metadata": {},
   "source": [
    "**Python Functions**"
   ]
  },
  {
   "cell_type": "code",
   "execution_count": 126,
   "id": "0f254032",
   "metadata": {},
   "outputs": [
    {
     "name": "stdout",
     "output_type": "stream",
     "text": [
      "194.87\n"
     ]
    }
   ],
   "source": [
    "# Python Function def\n",
    "# indentation for blocks. four spaces\n",
    "def getfv (pv, r, n):\n",
    "    fv = pv * ((1+ (r)) ** n)\n",
    "    return fv\n",
    "fv= getfv (100, 0.1, 7)\n",
    "print(round(fv, 2))"
   ]
  },
  {
   "cell_type": "markdown",
   "id": "181731db",
   "metadata": {},
   "source": [
    "**Future value of a specified principal amount, rate of interest, and a number of years**"
   ]
  },
  {
   "cell_type": "code",
   "execution_count": 127,
   "id": "f485909f",
   "metadata": {},
   "outputs": [
    {
     "name": "stdout",
     "output_type": "stream",
     "text": [
      "fv =  194.87\n"
     ]
    }
   ],
   "source": [
    "#How much is your $100 worth  after 7 years?\n",
    "fv = 100 * 1.1 ** 7\n",
    "print('fv = ', round(fv, 2))"
   ]
  },
  {
   "cell_type": "code",
   "execution_count": 129,
   "id": "3a731bce",
   "metadata": {},
   "outputs": [
    {
     "name": "stdout",
     "output_type": "stream",
     "text": [
      "194.87\n"
     ]
    }
   ],
   "source": [
    "# Future Value\n",
    "pv= 100\n",
    "r = 0.1\n",
    "n = 7\n",
    "fv= pv* ((1+ (r)) ** n)\n",
    "print(round(fv, 2))"
   ]
  },
  {
   "cell_type": "code",
   "execution_count": 130,
   "id": "44eb5233",
   "metadata": {},
   "outputs": [
    {
     "name": "stdout",
     "output_type": "stream",
     "text": [
      "194.87\n"
     ]
    }
   ],
   "source": [
    "# Future Value\n",
    "amount = 100\n",
    "interest = 10#10% = 0.01 * 10 \n",
    "years = 7\n",
    "future_value = amount * ((1 + (0.01 * interest)) ** years)\n",
    "print(round(future_value, 2))"
   ]
  },
  {
   "cell_type": "code",
   "execution_count": 134,
   "id": "eb9f1257",
   "metadata": {},
   "outputs": [
    {
     "name": "stdout",
     "output_type": "stream",
     "text": [
      "194.87\n"
     ]
    }
   ],
   "source": [
    "# Python Function def\n",
    "# indentation for blocks. four spaces\n",
    "def getfv (pv, r, n):\n",
    "    fv = pv * ((1+ (r)) ** n)\n",
    "    return fv   \n",
    "fv= getfv(100, 0.1, 7)\n",
    "print(round(fv, 2))"
   ]
  },
  {
   "cell_type": "markdown",
   "id": "020fd94c",
   "metadata": {},
   "source": [
    "**Python Classes/Objects class MyClass:**\n"
   ]
  },
  {
   "cell_type": "code",
   "execution_count": 139,
   "id": "fd5eb832",
   "metadata": {},
   "outputs": [
    {
     "name": "stdout",
     "output_type": "stream",
     "text": [
      "5\n"
     ]
    }
   ],
   "source": [
    "# Python class\n",
    "class MyClass:\n",
    "    x = 5\n",
    "\n",
    "    c1 = MyClass()\n",
    "    print(c1.x)"
   ]
  },
  {
   "cell_type": "code",
   "execution_count": null,
   "id": "9f7cf7b3",
   "metadata": {},
   "outputs": [
    {
     "name": "stdout",
     "output_type": "stream",
     "text": [
      "Hello my name is Alan\n",
      "Alan\n",
      "20\n"
     ]
    }
   ],
   "source": [
    "#Python Classes/Objects\n",
    "class Person:\n",
    "    def __init__(self, name, age):\n",
    "        self.name = name\n",
    "        self.age = age\n",
    "    def myfunc(self):\n",
    "        print(\"Hello my name is \" + self.name)\n",
    "p1 = Person(\"Alan\", 20)\n",
    "p1.myfunc()\n",
    "print(p1.name)\n",
    "print(p1.age)"
   ]
  },
  {
   "cell_type": "code",
   "execution_count": 161,
   "id": "92703a6c",
   "metadata": {},
   "outputs": [
    {
     "name": "stdout",
     "output_type": "stream",
     "text": [
      "Fer is a red convertible worth $60000.00.\n",
      "Fer\n",
      "Jump is a blue van worth $10000.00.\n",
      "Jump\n"
     ]
    }
   ],
   "source": [
    "#Python Classes/Objects\n",
    "\n",
    "car1 = Vehicle()\n",
    "car1.name = \"Fer\"\n",
    "car1.color = \"red\"\n",
    "car1.kind = \"convertible\"\n",
    "car1.value = 60000.00\n",
    "\n",
    "car2 = Vehicle()\n",
    "car2.name = \"Jump\"\n",
    "car2.color = \"blue\"\n",
    "car2.kind = \"van\"\n",
    "car2.value = 10000.00\n",
    "\n",
    "print(car1.description())\n",
    "print(car1.name)\n",
    "print(car2.description())\n",
    "print(car2.name)\n",
    "\n",
    "class Vehicle:\n",
    "    name = \"\"\n",
    "    kind = \"car\"\n",
    "    color = \"\"\n",
    "    value = 100.00\n",
    "    def description (self):\n",
    "        desc_str = \"%s is a %s %s worth $%.2f.\" % (self.name, self.color, self.kind, self.value)\n",
    "        return desc_str\n"
   ]
  }
 ],
 "metadata": {
  "kernelspec": {
   "display_name": "Python 3",
   "language": "python",
   "name": "python3"
  },
  "language_info": {
   "codemirror_mode": {
    "name": "ipython",
    "version": 3
   },
   "file_extension": ".py",
   "mimetype": "text/x-python",
   "name": "python",
   "nbconvert_exporter": "python",
   "pygments_lexer": "ipython3",
   "version": "3.13.6"
  }
 },
 "nbformat": 4,
 "nbformat_minor": 5
}
