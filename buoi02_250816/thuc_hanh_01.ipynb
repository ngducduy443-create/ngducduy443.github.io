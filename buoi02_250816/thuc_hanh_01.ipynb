{
 "cells": [
  {
   "cell_type": "markdown",
   "id": "89a9b18f",
   "metadata": {},
   "source": [
    "#Bài 1: In chuỗi  \n",
    "*Viết chương trình in ra 2 dòng chữ sau ra màn hình*  "
   ]
  },
  {
   "cell_type": "code",
   "execution_count": null,
   "id": "b5cc8bd8",
   "metadata": {},
   "outputs": [
    {
     "name": "stdout",
     "output_type": "stream",
     "text": [
      "Whoever is happy will make others happy too\n",
      "__Anne Frank\n"
     ]
    }
   ],
   "source": [
    "print(\"Whoever is happy will make others happy too\")\n",
    "print(\"__Anne Frank\")"
   ]
  },
  {
   "cell_type": "markdown",
   "id": "49dd537b",
   "metadata": {},
   "source": [
    "#Bài 2: Biểu thức tính toán \n",
    "Viết chương trình nhập vào hai số nguyên a và b. Hãy tính toán kết quả của các biểu thức sau A+B, A-B, A*B, A/B (chia lấy nguyên), A%B (chia lấy dư), A / B (chia lẻ) (làm tròn 2 số lẻ).  Khi in ra, kết quả có dạng “A [+,-,*,/,%] B = C”. A được căn lề trái 5, + (bình thường), B căn lề phải 5, dấu = bình thường, C căn lề phải 5. "
   ]
  },
  {
   "cell_type": "code",
   "execution_count": null,
   "id": "1c8b7dfb",
   "metadata": {},
   "outputs": [
    {
     "name": "stdout",
     "output_type": "stream",
     "text": [
      "Moi ban nhap so a:  6\n",
      "Moi ban nhap so b:  4\n",
      "Cac ket qua tinh toan: \n",
      "6     +     4 =    10\n",
      "6     -     4 =     2\n",
      "6     *     4 =    24\n",
      "6     /     4 =     1\n",
      "6     /     4 =     2\n",
      "6     /     4 =  1.50\n"
     ]
    }
   ],
   "source": [
    "# Nhập dữ liệu\n",
    "a = int(input(\"Moi ban nhap so a: \"))\n",
    "b = int(input(\"Moi ban nhap so b: \"))\n",
    "\n",
    "# Xử lý\n",
    "kqCong = a + b\n",
    "kqTru = a - b\n",
    "kqNhan = a * b\n",
    "kqChiaNguyen = a // b\n",
    "kqDu = a % b\n",
    "kqChiaThuc = a / b\n",
    "\n",
    "# Xuất dữ liệu\n",
    "print(\"Moi ban nhap so a: \", a)\n",
    "print(\"Moi ban nhap so b: \", b)\n",
    "\n",
    "print(\"Cac ket qua tinh toan: \")\n",
    "print(\"%-5d + %5d = %5d\"%(a, b, kqCong))\n",
    "print(\"%-5d - %5d = %5d\"%(a, b, kqTru))\n",
    "print(\"%-5d * %5d = %5d\"%(a, b, kqNhan))\n",
    "print(\"%-5d / %5d = %5d\"%(a, b, kqChiaNguyen))\n",
    "print(\"%-5d / %5d = %5d\"%(a, b, kqDu))\n",
    "print(\"%-5d / %5d = %5.2f\"%(a, b, kqChiaThuc))\n"
   ]
  },
  {
   "cell_type": "markdown",
   "id": "3d84b0e1",
   "metadata": {},
   "source": [
    "#Bài 3: Biểu thức so sánh  \n",
    "*Viết chương trình nhập vào 2 số thực a và b. Hãy viết chương trình ước lượng các biểu thức so sánh:*  *A>B, A<B, A>=B, A<=B, A!=B. Số thực được định dạng có 2 số lẻ, có dấu phân cách hàng ngàn*"
   ]
  },
  {
   "cell_type": "code",
   "execution_count": 13,
   "id": "04461957",
   "metadata": {},
   "outputs": [
    {
     "name": "stdout",
     "output_type": "stream",
     "text": [
      "Moi ban nhap so a:  7\n",
      "Moi ban nhap so b:  5\n",
      "Ket qua so sanh hai so thuc 7.00 va 5.00:\n",
      "7.00     <      5.00:    False\n",
      "7.00     <=     5.00:    False\n",
      "7.00      >     5.00:     True\n",
      "7.00     >=     5.00:     True\n",
      "7.00     ==     5.00:    False\n",
      "7.00     !=     5.00:     True\n"
     ]
    }
   ],
   "source": [
    "# Nhập dữ liệu\n",
    "a = int(input(\"Moi ban nhap so a: \"))\n",
    "b = int(input(\"Moi ban nhap so b: \"))\n",
    "\n",
    "# Xử lý  \n",
    "laNhoHon = (a < b)  \n",
    "laNhoHonBang = (a <= b) \n",
    "laLonHon = (a > b)  \n",
    "laLonHonBang = (a >= b) \n",
    "laBang = (a == b) \n",
    "laKhacNhau = (a != b) \n",
    "\n",
    "#Xuất dữ liệu\n",
    "print(\"Moi ban nhap so a: \", a)\n",
    "print(\"Moi ban nhap so b: \", b)\n",
    "\n",
    "print(\"Ket qua so sanh hai so thuc %.2f va %.2f:\"%(a, b)) \n",
    "print(\"%-8.2f <  %8.2f: %8s\"%(a, b, laNhoHon)) \n",
    "print(\"%-8.2f <= %8.2f: %8s\"%(a, b, laNhoHonBang)) \n",
    "print(\"%-8.2f  > %8.2f: %8s\"%(a, b, laLonHon)) \n",
    "print(\"%-8.2f >= %8.2f: %8s\"%(a, b, laLonHonBang)) \n",
    "print(\"%-8.2f == %8.2f: %8s\"%(a, b, laBang)) \n",
    "print(\"%-8.2f != %8.2f: %8s\"%(a, b, laKhacNhau)) "
   ]
  },
  {
   "cell_type": "markdown",
   "id": "bb49d6b1",
   "metadata": {},
   "source": []
  },
  {
   "cell_type": "markdown",
   "id": "2d4f24a9",
   "metadata": {},
   "source": []
  },
  {
   "cell_type": "markdown",
   "id": "5bd534ea",
   "metadata": {},
   "source": [
    "#Bài 4: Tính giá trị hàm số  \n",
    "*Hãy viết chương trình nhập vào số thực x và tính giá trị biểu thức:*\n",
    "![Biểu thức](Screenshot 2025-08-16 160422.png)"
   ]
  },
  {
   "cell_type": "code",
   "execution_count": 22,
   "id": "ecc909ae",
   "metadata": {},
   "outputs": [
    {
     "name": "stdout",
     "output_type": "stream",
     "text": [
      "Gia tri cua bien so x:  343.0\n",
      "Gia tri cua ham so f(x) = f(343.00) = 39563012925.86.\n"
     ]
    }
   ],
   "source": [
    "# Nạp thư viện \n",
    "import math \n",
    " \n",
    "# Nhập dữ liệu  \n",
    "x = float(input(\"Nhap gia tri cua bien so x: \")) \n",
    " \n",
    "# Xử lý  \n",
    "fx = x + math.pow(x, 5) / (1 * 2 * 3 * 4 * 5) + \\\n",
    "math.sqrt(abs(x)) / math.pow(x, 3.0 / 2) \n",
    " \n",
    "# Xuất dữ liệu \n",
    "print(\"Gia tri cua bien so x: \", x) \n",
    "print(\"Gia tri cua ham so f(x) = f(%.2f) = %.2f.\"%(x, fx)) "
   ]
  },
  {
   "cell_type": "markdown",
   "id": "1938eea7",
   "metadata": {},
   "source": [
    "#Bài 5: Tổng chữ số  \n",
    "*Cho số nguyên n có 4 chữ số. Hãy tính tổng các chữ số của n*  \n",
    "*Ví dụ: n = 1234 --> kq = 10*"
   ]
  },
  {
   "cell_type": "code",
   "execution_count": null,
   "id": "3d37e6a4",
   "metadata": {},
   "outputs": [
    {
     "name": "stdout",
     "output_type": "stream",
     "text": [
      "gia tri cua bien so x:  145.0\n",
      "Gia tri cua ham so f(x) = f(145.00) = 534144650.22.\n"
     ]
    }
   ],
   "source": [
    "#Nạp thư viện\n",
    "import math\n",
    "\n",
    "#Nhập dữ liệu\n",
    "n = float(input(\"Nhap gia tri cua so nguyen n: \"))\n",
    "\n",
    "#Xử lý\n",
    "fx = x + math.pow(x, 5) / (1 * 2 * 3 * 4 * 5) + \\\n",
    "     math.sqrt(abs(x)) / math.pow(x, 3.0 / 2) \n",
    " \n",
    "# Xuất dữ liệu \n",
    "print(\"gia tri cua bien so x: \", x) \n",
    "print(\"Gia tri cua ham so f(x) = f(%.2f) = %.2f.\"%(x, fx))"
   ]
  }
 ],
 "metadata": {
  "kernelspec": {
   "display_name": "Python 3",
   "language": "python",
   "name": "python3"
  },
  "language_info": {
   "codemirror_mode": {
    "name": "ipython",
    "version": 3
   },
   "file_extension": ".py",
   "mimetype": "text/x-python",
   "name": "python",
   "nbconvert_exporter": "python",
   "pygments_lexer": "ipython3",
   "version": "3.13.6"
  }
 },
 "nbformat": 4,
 "nbformat_minor": 5
}
