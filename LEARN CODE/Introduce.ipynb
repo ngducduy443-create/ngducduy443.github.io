{
 "cells": [
  {
   "cell_type": "markdown",
   "id": "5a77b528",
   "metadata": {},
   "source": [
    "#**Lệnh in**"
   ]
  },
  {
   "cell_type": "code",
   "execution_count": 1,
   "id": "763f6e30",
   "metadata": {},
   "outputs": [
    {
     "name": "stdout",
     "output_type": "stream",
     "text": [
      "Hello World\n"
     ]
    }
   ],
   "source": [
    " print(\"Hello World\")"
   ]
  },
  {
   "cell_type": "code",
   "execution_count": 2,
   "id": "69ac031a",
   "metadata": {},
   "outputs": [
    {
     "name": "stdout",
     "output_type": "stream",
     "text": [
      "toto\n"
     ]
    }
   ],
   "source": [
    "x = \"toto\"\n",
    "print(x)"
   ]
  },
  {
   "cell_type": "markdown",
   "id": "cac6adb9",
   "metadata": {},
   "source": [
    "#**Mô-đun và gói**"
   ]
  },
  {
   "cell_type": "code",
   "execution_count": 7,
   "id": "fb1979d7",
   "metadata": {},
   "outputs": [
    {
     "name": "stdout",
     "output_type": "stream",
     "text": [
      "0    1\n",
      "1    5\n",
      "2    4\n",
      "dtype: int64\n",
      "0    1\n",
      "1    5\n",
      "2    4\n",
      "dtype: int64\n"
     ]
    }
   ],
   "source": [
    "#lệnh này để tải gói pandas\n",
    "import pandas\n",
    "\n",
    "#Sử dụng lệnh trong gói pandas, lệnh Series để tạo 1 mảng dữ liệu được lập chỉ mục theo chiều\n",
    "import pandas as pd\n",
    "x = pandas.Series([1, 5, 4])\n",
    "print(x)\n",
    "\n",
    "#Có thể viết tắt pandas -> pd như sau:\n",
    "x = pd.Series([1, 5, 4])\n",
    "print(x)\n",
    "\n"
   ]
  }
 ],
 "metadata": {
  "kernelspec": {
   "display_name": "Python 3",
   "language": "python",
   "name": "python3"
  },
  "language_info": {
   "codemirror_mode": {
    "name": "ipython",
    "version": 3
   },
   "file_extension": ".py",
   "mimetype": "text/x-python",
   "name": "python",
   "nbconvert_exporter": "python",
   "pygments_lexer": "ipython3",
   "version": "3.13.6"
  }
 },
 "nbformat": 4,
 "nbformat_minor": 5
}
